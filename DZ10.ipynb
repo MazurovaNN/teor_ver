{
  "nbformat": 4,
  "nbformat_minor": 0,
  "metadata": {
    "colab": {
      "provenance": [],
      "authorship_tag": "ABX9TyOF8RBdVloZh9ZgUt1qMV90",
      "include_colab_link": true
    },
    "kernelspec": {
      "name": "python3",
      "display_name": "Python 3"
    },
    "language_info": {
      "name": "python"
    }
  },
  "cells": [
    {
      "cell_type": "markdown",
      "metadata": {
        "id": "view-in-github",
        "colab_type": "text"
      },
      "source": [
        "<a href=\"https://colab.research.google.com/github/MazurovaNN/theory_ver/blob/main/DZ10.ipynb\" target=\"_parent\"><img src=\"https://colab.research.google.com/assets/colab-badge.svg\" alt=\"Open In Colab\"/></a>"
      ]
    },
    {
      "cell_type": "code",
      "source": [
        "import numpy as np\n",
        "from scipy import stats"
      ],
      "metadata": {
        "id": "7NwtM0hp1OjP"
      },
      "execution_count": 1,
      "outputs": []
    },
    {
      "cell_type": "markdown",
      "source": [
        "Задача 1.\n",
        "\n",
        "Провести дисперсионный анализ для определения того, есть ли различия среднего\n",
        "роста среди взрослых футболистов, хоккеистов и штангистов.\n",
        "Даны значения роста в трех группах случайно выбранных спортсменов:\n",
        "Футболисты: 173, 175, 180, 178, 177, 185, 183, 182.\n",
        "\n",
        "Хоккеисты: 177, 179, 180, 188, 177, 172, 171, 184, 180.\n",
        "\n",
        "Штангисты: 172, 173, 169, 177, 166, 180, 178, 177, 172, 166, 170."
      ],
      "metadata": {
        "id": "p6UySs9y1Zk4"
      }
    },
    {
      "cell_type": "code",
      "source": [
        "x1=np.array([173, 175, 180, 178, 177, 185, 183, 182])\n",
        "x2=np.array([177, 179, 180, 188, 177, 172, 171, 184, 180])\n",
        "x3=np.array([172, 173, 169, 177, 166, 180, 178, 177, 172, 166, 170])"
      ],
      "metadata": {
        "id": "Hg9nJ19c1k6T"
      },
      "execution_count": 2,
      "outputs": []
    },
    {
      "cell_type": "markdown",
      "source": [
        "Определяю уровень значимости 0.05 (вероятность ошибки).\n",
        "\n",
        " Фиксирую по стандарту"
      ],
      "metadata": {
        "id": "Dp9Za5Es3Wqs"
      }
    },
    {
      "cell_type": "code",
      "source": [
        "alpha=0.05"
      ],
      "metadata": {
        "id": "BvDPxKG43frV"
      },
      "execution_count": 3,
      "outputs": []
    },
    {
      "cell_type": "markdown",
      "source": [
        "Следует проверить распределение на нормальность"
      ],
      "metadata": {
        "id": "H7j0CoJz3o4s"
      }
    },
    {
      "cell_type": "code",
      "source": [
        "stats.shapiro(x1)"
      ],
      "metadata": {
        "colab": {
          "base_uri": "https://localhost:8080/"
        },
        "id": "mISpAmNO4v7s",
        "outputId": "7917eefa-6361-4111-b5e4-01fc2c932e29"
      },
      "execution_count": 4,
      "outputs": [
        {
          "output_type": "execute_result",
          "data": {
            "text/plain": [
              "ShapiroResult(statistic=0.9775081276893616, pvalue=0.9495397210121155)"
            ]
          },
          "metadata": {},
          "execution_count": 4
        }
      ]
    },
    {
      "cell_type": "code",
      "source": [
        "stats.shapiro(x2)"
      ],
      "metadata": {
        "colab": {
          "base_uri": "https://localhost:8080/"
        },
        "id": "_BDM3vaJ5A1K",
        "outputId": "59fa93ba-c2d5-403f-f284-d57f7825c431"
      },
      "execution_count": 5,
      "outputs": [
        {
          "output_type": "execute_result",
          "data": {
            "text/plain": [
              "ShapiroResult(statistic=0.9579195976257324, pvalue=0.7763133645057678)"
            ]
          },
          "metadata": {},
          "execution_count": 5
        }
      ]
    },
    {
      "cell_type": "code",
      "source": [
        "stats.shapiro(x3)"
      ],
      "metadata": {
        "colab": {
          "base_uri": "https://localhost:8080/"
        },
        "id": "hmZ0u0eH5DG2",
        "outputId": "14b99272-bddb-40e8-f655-54235488e920"
      },
      "execution_count": 6,
      "outputs": [
        {
          "output_type": "execute_result",
          "data": {
            "text/plain": [
              "ShapiroResult(statistic=0.93868088722229, pvalue=0.5051169991493225)"
            ]
          },
          "metadata": {},
          "execution_count": 6
        }
      ]
    },
    {
      "cell_type": "markdown",
      "source": [
        "Для выборок х1, х2 и х3 p-value больше alpha, следовательно нулевая гипотеза Н0 принимается - нормальное распределение данных. \n",
        "\n",
        "Проверяю равенство дисперсий."
      ],
      "metadata": {
        "id": "xQn4ni5V5Ufu"
      }
    },
    {
      "cell_type": "code",
      "source": [
        "stats.bartlett(x1,x2,x3)"
      ],
      "metadata": {
        "id": "_I4_1ZA36mls",
        "outputId": "34246bbb-2b0c-4e2e-ad21-ed8aaebfbc41",
        "colab": {
          "base_uri": "https://localhost:8080/"
        }
      },
      "execution_count": 7,
      "outputs": [
        {
          "output_type": "execute_result",
          "data": {
            "text/plain": [
              "BartlettResult(statistic=0.4640521043406442, pvalue=0.7929254656083131)"
            ]
          },
          "metadata": {},
          "execution_count": 7
        }
      ]
    },
    {
      "cell_type": "markdown",
      "source": [
        "p-value для каждой выборки больше alpha, значит принимаю Н0 следующее:\n",
        "дисперсии равны.\n",
        "\n",
        "Далее следует провести однофакторный дисперсионный анализ.\n",
        "\n",
        "Н0:m1=m2=m3\n",
        "\n",
        "H1:m1!=m2!=m3"
      ],
      "metadata": {
        "id": "mzAsO6JP65ER"
      }
    },
    {
      "cell_type": "code",
      "source": [
        "stats.f_oneway(x1, x2, x3)"
      ],
      "metadata": {
        "id": "aZfXK18r72du",
        "outputId": "e45538a4-319f-44a4-8d7f-9e560beb3366",
        "colab": {
          "base_uri": "https://localhost:8080/"
        }
      },
      "execution_count": 8,
      "outputs": [
        {
          "output_type": "execute_result",
          "data": {
            "text/plain": [
              "F_onewayResult(statistic=5.500053450812596, pvalue=0.010482206918698694)"
            ]
          },
          "metadata": {},
          "execution_count": 8
        }
      ]
    },
    {
      "cell_type": "markdown",
      "source": [
        "p-value получилось меньше alpha, значит нулевая гипотеза Н0 отвергается на уровне значимости 0.05 \n",
        "\n",
        "Таким образом, разница есть. \n",
        "\n",
        "Есть различия среднего роста среди взрослых футболистов, хоккеистов и штангистов. Средний рост спортсменов различен!"
      ],
      "metadata": {
        "id": "hdLKcr_G8PEN"
      }
    }
  ]
}