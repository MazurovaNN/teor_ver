{
  "nbformat": 4,
  "nbformat_minor": 0,
  "metadata": {
    "colab": {
      "provenance": [],
      "authorship_tag": "ABX9TyOyRaVnOgmp3QcSJwj4o+S8",
      "include_colab_link": true
    },
    "kernelspec": {
      "name": "python3",
      "display_name": "Python 3"
    },
    "language_info": {
      "name": "python"
    }
  },
  "cells": [
    {
      "cell_type": "markdown",
      "metadata": {
        "id": "view-in-github",
        "colab_type": "text"
      },
      "source": [
        "<a href=\"https://colab.research.google.com/github/MazurovaNN/theory_ver/blob/main/DZ6_z3.ipynb\" target=\"_parent\"><img src=\"https://colab.research.google.com/assets/colab-badge.svg\" alt=\"Open In Colab\"/></a>"
      ]
    },
    {
      "cell_type": "code",
      "source": [
        "#@title Default title text\n",
        "import numpy as np\n",
        "import scipy.stats as stats\n",
        "\n",
        "daughters = np.array([175, 167, 154, 174, 178, 148, 160, 167, 169, 170])\n",
        "mothers = np.array([178, 165, 165, 173, 168, 155, 160, 164, 178, 175])\n",
        "\n",
        "mean_difference = np.mean(mothers) - np.mean(daughters)\n",
        "std = np.sqrt((np.std(mothers) ** 2 / len(mothers)) + (np.std(daughters) ** 2 / len(daughters)))\n",
        "a = 1.96 * std\n",
        "confidence_interval = (mean_difference - a, mean_difference + a)\n",
        "\n",
        "print(\"95% доверительный интервал разности среднего роста родителей и детей:\", confidence_interval)"
      ],
      "metadata": {
        "colab": {
          "base_uri": "https://localhost:8080/"
        },
        "id": "TQPOefc_p2c5",
        "outputId": "14431b30-2796-4e0d-e53f-7df6250d3644"
      },
      "execution_count": 5,
      "outputs": [
        {
          "output_type": "stream",
          "name": "stdout",
          "text": [
            "95% доверительный интервал разности среднего роста родителей и детей: (-5.329451431471127, 9.12945143147114)\n"
          ]
        }
      ]
    },
    {
      "cell_type": "markdown",
      "source": [],
      "metadata": {
        "id": "iLDDTsoG4QsF"
      }
    },
    {
      "cell_type": "code",
      "source": [],
      "metadata": {
        "id": "RojNiTR25mSE"
      },
      "execution_count": null,
      "outputs": []
    }
  ]
}