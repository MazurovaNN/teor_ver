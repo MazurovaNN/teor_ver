{
 "cells": [
  {
   "cell_type": "code",
   "execution_count": 25,
   "metadata": {},
   "outputs": [],
   "source": [
    "import pandas as pd\n",
    "import numpy as np\n",
    "from statsmodels.stats.weightstats import _tconfint_generic as t_stat\n",
    "from scipy.stats import norm \n",
    "import math"
   ]
  },
  {
   "cell_type": "markdown",
   "metadata": {},
   "source": [
    "1\\.Когда используется критерий Стьюдента, а когда Z –критерий?",
     "Чаще всего критерий Стьюдента (t-критерий) применяется для проверки равенства средних значений в двух выборках,",
     "размеры выборок малы или неизвестны дисперсии совокупностей.",
     "Z –критерий обычно применяется для проверки равенства средних значений при известной дисперсии генеральной",
     "совокупности или при оценке выборочного среднего стандартизованных значений? Размеры выборок большие и дисперсии совокупностей известны",
{
   "cell_type": "markdown",
   "metadata": {},
   "source": [
"2\\.Проведите тест гипотезы.Утверждается, что шарики для подшипников, изготовленные автоматическим станком, имеют средний диаметр 17 мм. \n",
    "Используя односторонний критерий с α=0,05, проверить эту гипотезу, если в выборке из n=100 шариков средний диаметр \n",
    "оказался равным 17.5 мм, а дисперсия известна и равна 4 мм."
   ]
  },
  {
   "cell_type": "markdown",
   "metadata": {},
   "source": [
    "H0: M = 7\n",
    "\n",
    "H1: M > 17"
   ]
  },
  {
   "cell_type": "code",
   "execution_count": 20,
   "metadata": {},
   "outputs": [],
   "source": [
    "U_fact = (17.5 - 17) / 4 * np.sqrt(100)"
   ]
  },
  {
   "cell_type": "code",
   "execution_count": 21,
   "metadata": {},
   "outputs": [
    {
     "data": {
      "text/plain": [
       "1.25"
      ]
     },
     "execution_count": 21,
     "metadata": {},
     "output_type": "execute_result"
    }
   ],
   "source": [
    "U_fact"
   ]
  },
  {
   "cell_type": "code",
   "execution_count": 16,
   "metadata": {},
   "outputs": [],
   "source": [
    "Ф(U_cr) = 1.645"
   ]
  },
  {
   "cell_type": "markdown",
   "metadata": {},
   "source": [
    "т.к. U_fact < U_cr Нулевая гипотеза принимается"
   ]
  },
  {
   "cell_type": "markdown",
   "metadata": {},
   "source": [
    "3\\.Проведите тест гипотезы. Продавец утверждает, что средний вес пачки печенья составляет 200 г. \n",
    "Из партии извлечена выборка из 10 пачек. Вес каждой пачки составляет:\n",
    "202, 203, 199, 197, 195, 201, 200, 204, 194, 190.\n",
    "Известно, что их веса распределены нормально.\n",
    "Верно ли утверждение продавца, если учитывать, что доверительная вероятность равна 99%?"
   ]
  },
  {
   "cell_type": "markdown",
   "metadata": {},
   "source": [
    "H0: M = 200\n",
    "\n",
    "H1: M != 200"
   ]
  },
  {
   "cell_type": "code",
   "execution_count": 28,
   "metadata": {},
   "outputs": [],
   "source": [
    "X = np.array([202, 203, 199, 197, 195, 201, 200, 204, 194, 190])\n",
    "mean_X = X.mean()\n",
    "std_X = X.std(ddof=1)"
   ]
  },
  {
   "cell_type": "code",
   "execution_count": 30,
   "metadata": {},
   "outputs": [
    {
     "data": {
      "text/plain": [
       "-1.0651074037450896"
      ]
     },
     "execution_count": 30,
     "metadata": {},
     "output_type": "execute_result"
    }
   ],
   "source": [
    "t_fact = (mean_X - 200) / std_X * np.sqrt(10)\n",
    "t_fact"
   ]
  },
  {
   "cell_type": "code",
   "execution_count": 31,
   "metadata": {},
   "outputs": [],
   "source": [
    "t_cr = 3.25"
   ]
  },
  {
   "cell_type": "markdown",
   "metadata": {},
   "source": [
    "т.к. abs(t_fact) < t_cr нулевая гипотеза принимается"
   ]
  },
 {
   "cell_type": "markdown",
   "metadata": {},
   "source": [
    "4\\.Есть ли статистически значимые различия в росте дочерей? Рост матерей 172, 177, 158, 170, 178,175, 164, 160, 169, 165",
    "Рост взрослых дочерей: 173, 175, 162, 174, 175, 168, 155, 170, 160, 163",
   ]
  },
  {
   "cell_type": "code",
   "source": [
   "mothers = [172, 177, 158, 170, 178, 175, 164, 160, 169, 165]\n",
   "daughters = [173, 175, 162, 174, 175, 168, 155, 170, 160, 163]\n",
   "\n",
   "stats.ttest_rel(mothers, daughters)\n"
  ],
   "metadata": {
   "colab": {
   "base_uri": "https://localhost:8080/"
  },
   "id": "JfesK1Qwi-eH",
   "outputId": "cf969636-9f02-43ab-c162-6e158c21a4f7"
  },
   "execution_count": null,
   "outputs": [
  {
   "output_type": "execute_result",
   "data": {
   "text/plain": [
   "Ttest_relResult(statistic=0.664847853143198, pvalue=0.5228168632983574)"
   ]
  },
   "metadata": {},
   "execution_count": 14
  }
 ]
},
 {
  "cell_type": "markdown",
  "source": [
  "Так как $p-value > \\alpha (0,05)$ \n",
  "$H_0$ не отвергаем"
 ],
  "metadata": {
  "id": "8UYVsN4Vk5F6"
 }
},
{
 "cell_type": "markdown",
 "source": [
 "Статистически заничмых различий нет."
],
 "metadata": {
 "id": "2GIcjYNessmw"
 }
 }
 ]
}
  {
   "cell_type": "code",
   "execution_count": null,
   "metadata": {},
   "outputs": [],
   "source": []
  }
 ],
 "metadata": {
  "kernelspec": {
   "display_name": "Python 3",
   "language": "python",
   "name": "python3"
  },
  "language_info": {
   "codemirror_mode": {
    "name": "ipython",
    "version": 3
   },
   "file_extension": ".py",
   "mimetype": "text/x-python",
   "name": "python",
   "nbconvert_exporter": "python",
   "pygments_lexer": "ipython3",
   "version": "3.7.1"
  }
 },
 "nbformat": 4,
 "nbformat_minor": 2
}
