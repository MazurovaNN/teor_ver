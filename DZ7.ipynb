{
  "nbformat": 4,
  "nbformat_minor": 0,
  "metadata": {
    "colab": {
      "provenance": [],
      "authorship_tag": "ABX9TyMKwHpsvy8kRT8V+FSD7Aom",
      "include_colab_link": true
    },
    "kernelspec": {
      "name": "python3",
      "display_name": "Python 3"
    },
    "language_info": {
      "name": "python"
    }
  },
  "cells": [
    {
      "cell_type": "markdown",
      "metadata": {
        "id": "view-in-github",
        "colab_type": "text"
      },
      "source": [
        "<a href=\"https://colab.research.google.com/github/MazurovaNN/theory_ver/blob/main/DZ7.ipynb\" target=\"_parent\"><img src=\"https://colab.research.google.com/assets/colab-badge.svg\" alt=\"Open In Colab\"/></a>"
      ]
    },
    {
      "cell_type": "code",
      "execution_count": 3,
      "metadata": {
        "id": "F_lE39iJfrz9"
      },
      "outputs": [],
      "source": [
        "import numpy as np\n",
        "import scipy.stats as stats\n",
        "\n"
      ]
    },
    {
      "cell_type": "markdown",
      "source": [
        "Урок 7. Непараметрические тесты\n",
        "1-4 задачи решать с помощью функций, 5ю вручную\n",
        "Выберете тест и проверьте, есть ли различия между выборками:\n",
        "\n",
        "Задача 1. Даны две независимые выборки. Не соблюдается условие нормальности\n",
        "x1 380,420, 290\n",
        "y1 140,360,200,900\n",
        "Сделайте вывод по результатам, полученным с помощью функции"
      ],
      "metadata": {
        "id": "KTsJF_hohP_V"
      }
    },
    {
      "cell_type": "code",
      "source": [
        "x1=np.array([380,420,290])\n",
        "y1=np.array([140,360,200,900])\n",
        "alpha=0.05\n",
        "stats.mannwhitneyu(x1, y1)"
      ],
      "metadata": {
        "colab": {
          "base_uri": "https://localhost:8080/"
        },
        "id": "kZOoESEFgZMV",
        "outputId": "37fb923e-8094-4580-f16f-bea23746fc15"
      },
      "execution_count": 4,
      "outputs": [
        {
          "output_type": "execute_result",
          "data": {
            "text/plain": [
              "MannwhitneyuResult(statistic=8.0, pvalue=0.6285714285714286)"
            ]
          },
          "metadata": {},
          "execution_count": 4
        }
      ]
    },
    {
      "cell_type": "markdown",
      "source": [
        " pvalue>0.05 статистически значимых различий нет \n",
        " H0 не отвергается\n"
      ],
      "metadata": {
        "id": "g_VQTivchgSC"
      }
    },
    {
      "cell_type": "markdown",
      "source": [
        "Задача 2. Исследовалось влияние препарата на уровень давления пациентов. Сначала\n",
        "измерялось давление до приема препарата, потом через 10 минут и через 30 минут.\n",
        "\n",
        "Есть ли статистически значимые различия?\n",
        "\n",
        "1е измерение до приема препарата: 150, 160, 165, 145, 155\n",
        "\n",
        "2е измерение через 10 минут: 140, 155, 150, 130, 135\n",
        "\n",
        "3е измерение через 30 минут: 130, 130, 120, 130, 125"
      ],
      "metadata": {
        "id": "QLpH_uhNjwVo"
      }
    },
    {
      "cell_type": "code",
      "source": [
        "x1=np.array([150, 160, 165, 145, 155])\n",
        "x2=np.array([140, 155, 150, 130, 135])\n",
        "x3=np.array([130, 130, 120, 130, 125])\n",
        "alpha=0.05\n",
        "stats.friedmanchisquare(x1, x2, x3)"
      ],
      "metadata": {
        "colab": {
          "base_uri": "https://localhost:8080/"
        },
        "id": "A76LCPG0kBiC",
        "outputId": "fb7c08f9-0a7f-4591-8222-fecad3a8fb8f"
      },
      "execution_count": 6,
      "outputs": [
        {
          "output_type": "execute_result",
          "data": {
            "text/plain": [
              "FriedmanchisquareResult(statistic=9.578947368421062, pvalue=0.00831683351100441)"
            ]
          },
          "metadata": {},
          "execution_count": 6
        }
      ]
    },
    {
      "cell_type": "markdown",
      "source": [
        "pvalue < 0.05 статистически значимые различия есть \n",
        "H0 отвергаем, ВЫВОД: препарат влияет на уровень давления"
      ],
      "metadata": {
        "id": "I0XvtuPAkQ1f"
      }
    },
    {
      "cell_type": "markdown",
      "source": [
        "Задача 3. \n",
        "\n",
        "Сравните 1 и 2 е измерения, предполагая, что 3го измерения через 30 минут не было."
      ],
      "metadata": {
        "id": "NSz4_7y2k-2g"
      }
    },
    {
      "cell_type": "code",
      "source": [
        "x1=np.array([150, 160, 165, 145, 155])\n",
        "x2=np.array([140, 155, 150, 130, 135])\n",
        "\n",
        "alpha=0.05\n",
        "stats.wilcoxon(x1, x2)"
      ],
      "metadata": {
        "colab": {
          "base_uri": "https://localhost:8080/"
        },
        "id": "4LnNBc-llJ9j",
        "outputId": "6d97e1ae-9387-49a9-db12-593d60c5ccb2"
      },
      "execution_count": 7,
      "outputs": [
        {
          "output_type": "execute_result",
          "data": {
            "text/plain": [
              "WilcoxonResult(statistic=0.0, pvalue=0.0625)"
            ]
          },
          "metadata": {},
          "execution_count": 7
        }
      ]
    },
    {
      "cell_type": "markdown",
      "source": [
        "pvalue > 0.05 статистически значимых различий нет, H0 не отвергается, ВЫВОД: препарат не влияет на уровень давления"
      ],
      "metadata": {
        "id": "dqFWJoHtlXw2"
      }
    },
    {
      "cell_type": "markdown",
      "source": [
        "Задача 4. Даны 3 группы учеников плавания.\n",
        "\n",
        "В 1 группе время на дистанцию 50 м составляют:\n",
        "56, 60, 62, 55, 71, 67, 59, 58, 64, 67\n",
        "\n",
        "Вторая группа : 57, 58, 69, 48, 72, 70, 68, 71, 50, 53\n",
        "\n",
        "Третья группа: 57, 67, 49, 48, 47, 55, 66, 51, 54"
      ],
      "metadata": {
        "id": "dc4LEza1l7mN"
      }
    },
    {
      "cell_type": "code",
      "source": [
        "x1=np.array([56, 60, 62, 55, 71, 67, 59, 58, 64, 67])\n",
        "x2=np.array([57, 58, 69, 48, 72, 70, 68, 71, 50, 53])\n",
        "x3=np.array([57, 67, 49, 48, 47, 55, 66, 51, 54])\n",
        "alpha=0.05\n",
        "stats.kruskal(x1,x2,x3)"
      ],
      "metadata": {
        "colab": {
          "base_uri": "https://localhost:8080/"
        },
        "id": "vMHD3vKpmMOM",
        "outputId": "5105c65d-c872-426a-dd2a-3990e40eebbf"
      },
      "execution_count": 8,
      "outputs": [
        {
          "output_type": "execute_result",
          "data": {
            "text/plain": [
              "KruskalResult(statistic=5.465564058257224, pvalue=0.0650380998590494)"
            ]
          },
          "metadata": {},
          "execution_count": 8
        }
      ]
    },
    {
      "cell_type": "markdown",
      "source": [
        "pvalue > 0.05 статистически значимых различий нет, H0 не отвергается, ВЫВОД: в группах время на дистанцию одинаковое"
      ],
      "metadata": {
        "id": "cGTVlKIwmV-v"
      }
    },
    {
      "cell_type": "markdown",
      "source": [
        "Задача 5. Заявляется, что партия изготавливается со средним арифметическим 2,5 см. \n",
        "\n",
        "Проверить данную гипотезу, если известно, что размеры изделий подчинены нормальному закону\n",
        "распределения.\n",
        "\n",
        "Объем выборки 10, уровень статистической значимости 5%\n",
        "\n",
        "2.51, 2.35, 2.74, 2.56, 2.40, 2.36, 2.65, 2.7, 2.67, 2.34"
      ],
      "metadata": {
        "id": "sxH_oLtunGBT"
      }
    },
    {
      "cell_type": "markdown",
      "source": [
        "Составляю гипотезы\n",
        "H0: М=2,5\n",
        "H1: М/=2,5"
      ],
      "metadata": {
        "id": "Kn2ExhPgniPC"
      }
    },
    {
      "cell_type": "code",
      "source": [
        "weights = np.array([2.51, 2.35, 2.74, 2.56, 2.40, 2.36, 2.65, 2.7, 2.67, 2.34])\n",
        "n = 10\n",
        "\n",
        "mean = weights.mean()\n",
        "std = weights.std(ddof=1)\n",
        "\n",
        "mean, std"
      ],
      "metadata": {
        "colab": {
          "base_uri": "https://localhost:8080/"
        },
        "id": "iGQKAO63pW2y",
        "outputId": "4f99c53a-a2b9-4616-9c31-4689b3e65bea"
      },
      "execution_count": 9,
      "outputs": [
        {
          "output_type": "execute_result",
          "data": {
            "text/plain": [
              "(2.5279999999999996, 0.1572542173961923)"
            ]
          },
          "metadata": {},
          "execution_count": 9
        }
      ]
    },
    {
      "cell_type": "markdown",
      "source": [
        "Поскольку мы проверяем гипотезу относительно математического ожидания нормально распределённой случайной величины с неизвестной дисперсией, будем использовать статистику:\n",
        "\n",
        " \n"
      ],
      "metadata": {
        "id": "YTXLh0ODpqik"
      }
    },
    {
      "cell_type": "code",
      "source": [
        "# t- наблюдаемое\n",
        "t = (mean-2.5)/(std/np.sqrt(n))\n",
        "t"
      ],
      "metadata": {
        "colab": {
          "base_uri": "https://localhost:8080/"
        },
        "id": "J_CCLAm9p1gq",
        "outputId": "36de667f-e30b-41ea-ccea-2b5d19e134bd"
      },
      "execution_count": 10,
      "outputs": [
        {
          "output_type": "execute_result",
          "data": {
            "text/plain": [
              "0.5630613661802959"
            ]
          },
          "metadata": {},
          "execution_count": 10
        }
      ]
    },
    {
      "cell_type": "markdown",
      "source": [
        "Доверительная вероятность = 0.05\n",
        ", число степеней свободы = n-1=9\n",
        "\n",
        "по таблице Стьюдента нахожу критическое\n",
        "t1=0.064\n",
        "t2=-0.064"
      ],
      "metadata": {
        "id": "DqfMBsAop9_t"
      }
    },
    {
      "cell_type": "markdown",
      "source": [
        "Значение t  попадает в критическую область, таким образом, альтернативную гипотезу H1\n",
        " не отвергаем, партия изготавливается со средним арифметическим не равным 2.5"
      ],
      "metadata": {
        "id": "zklxcYWtqzb7"
      }
    }
  ]
}