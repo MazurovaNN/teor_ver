{
  "nbformat": 4,
  "nbformat_minor": 0,
  "metadata": {
    "colab": {
      "provenance": [],
      "authorship_tag": "ABX9TyMtPSv1AUZJ1iLLHrbBbWmJ",
      "include_colab_link": true
    },
    "kernelspec": {
      "name": "python3",
      "display_name": "Python 3"
    },
    "language_info": {
      "name": "python"
    }
  },
  "cells": [
    {
      "cell_type": "markdown",
      "metadata": {
        "id": "view-in-github",
        "colab_type": "text"
      },
      "source": [
        "<a href=\"https://colab.research.google.com/github/MazurovaNN/theory_ver/blob/main/DZ8.ipynb\" target=\"_parent\"><img src=\"https://colab.research.google.com/assets/colab-badge.svg\" alt=\"Open In Colab\"/></a>"
      ]
    },
    {
      "cell_type": "code",
      "execution_count": 3,
      "metadata": {
        "id": "k484xGtkSNjs"
      },
      "outputs": [],
      "source": [
        "import numpy as np\n",
        "import pandas as pd\n",
        "from scipy import stats\n",
        "import matplotlib.pyplot as plt"
      ]
    },
    {
      "cell_type": "markdown",
      "source": [
        "Задача 1 Даны значения величины заработной платы заемщиков банка (zp) и значения их\n",
        "поведенческого кредитного скоринга (ks):\n",
        "\n",
        "zp = [35, 45, 190, 200, 40, 70, 54, 150, 120, 110],\n",
        "\n",
        "ks = [401, 574, 874, 919, 459, 739, 653, 902, 746, 832].\n",
        "\n",
        "Найдите ковариацию этих двух величин с помощью элементарных действий, а затем с\n",
        "помощью функции cov из numpy\n",
        "Полученные значения должны быть равны.\n",
        "Найдите коэффициент корреляции Пирсона с помощью ковариации и\n",
        "среднеквадратичных отклонений двух признаков,\n",
        "а затем с использованием функций из библиотек numpy и pandas."
      ],
      "metadata": {
        "id": "fKECO4FASynX"
      }
    },
    {
      "cell_type": "code",
      "source": [
        "zp=np.array([35, 45, 190, 200, 40, 70, 54, 150, 120, 110])\n",
        "ks=np.array([401, 574, 874, 919, 459, 739, 653, 902, 746, 832])"
      ],
      "metadata": {
        "id": "4aHHehEbTDgM"
      },
      "execution_count": 4,
      "outputs": []
    },
    {
      "cell_type": "code",
      "source": [
        "plt.scatter(zp,ks)\n",
        "plt.xlabel('Величина заработной платы')\n",
        "plt.ylabel('Поведенческий кредитный скоринг', rotation=90)\n",
        "plt.show()"
      ],
      "metadata": {
        "colab": {
          "base_uri": "https://localhost:8080/",
          "height": 279
        },
        "id": "pd0dqu-bTRec",
        "outputId": "24540769-91b7-4d7c-ae72-19837791ffe8"
      },
      "execution_count": 5,
      "outputs": [
        {
          "output_type": "display_data",
          "data": {
            "text/plain": [
              "<Figure size 432x288 with 1 Axes>"
            ],
            "image/png": "[encoded data removed]"
          },
          "metadata": {
            "needs_background": "light"
          }
        }
      ]
    },
    {
      "cell_type": "markdown",
      "source": [
        "Проанализировав график, можно прийти к выводу, что зависимоть линенйная (прямая).\n",
        "\n",
        "Следовательно, между данными существует выраженная положительная корреляция\n",
        "\n",
        "Далее считаю ковариацию через математическое ожидание"
      ],
      "metadata": {
        "id": "wjSnu2fMT5Nv"
      }
    },
    {
      "cell_type": "code",
      "source": [
        "cov=np.mean(zp*ks)-np.mean(zp)*np.mean(ks)\n",
        "cov"
      ],
      "metadata": {
        "colab": {
          "base_uri": "https://localhost:8080/"
        },
        "id": "WcGy_nrjUrxs",
        "outputId": "04149150-9c99-4259-babf-71797bf63116"
      },
      "execution_count": 6,
      "outputs": [
        {
          "output_type": "execute_result",
          "data": {
            "text/plain": [
              "9157.839999999997"
            ]
          },
          "metadata": {},
          "execution_count": 6
        }
      ]
    },
    {
      "cell_type": "markdown",
      "source": [
        "Считаю ковариацию через смещенную функцию cov"
      ],
      "metadata": {
        "id": "7itM-ew1VAjf"
      }
    },
    {
      "cell_type": "code",
      "source": [
        "cov2=np.cov(zp,ks,ddof=0)\n",
        "cov2"
      ],
      "metadata": {
        "colab": {
          "base_uri": "https://localhost:8080/"
        },
        "id": "C-onsjQtVPNY",
        "outputId": "a73479d1-92ec-4d1d-9518-f7556665892f"
      },
      "execution_count": 7,
      "outputs": [
        {
          "output_type": "execute_result",
          "data": {
            "text/plain": [
              "array([[ 3494.64,  9157.84],\n",
              "       [ 9157.84, 30468.89]])"
            ]
          },
          "metadata": {},
          "execution_count": 7
        }
      ]
    },
    {
      "cell_type": "markdown",
      "source": [
        "Рассчитываю коэффициент Пирсона через формулу смещенной ковариации"
      ],
      "metadata": {
        "id": "7sDpBwstVjBj"
      }
    },
    {
      "cell_type": "code",
      "source": [
        "pear=cov/(zp.std(ddof=0)*ks.std(ddof=0))\n",
        "pear"
      ],
      "metadata": {
        "colab": {
          "base_uri": "https://localhost:8080/"
        },
        "id": "0of8E1lyVqQ8",
        "outputId": "63915fc4-ad7c-482a-ea38-ad6e7a5e018e"
      },
      "execution_count": 8,
      "outputs": [
        {
          "output_type": "execute_result",
          "data": {
            "text/plain": [
              "0.8874900920739158"
            ]
          },
          "metadata": {},
          "execution_count": 8
        }
      ]
    },
    {
      "cell_type": "markdown",
      "source": [
        "С использованием функций из библиотеки numpy"
      ],
      "metadata": {
        "id": "PIA0FzEWV2WM"
      }
    },
    {
      "cell_type": "code",
      "source": [
        "pear_np=np.corrcoef(zp, ks)\n",
        "pear_np"
      ],
      "metadata": {
        "colab": {
          "base_uri": "https://localhost:8080/"
        },
        "id": "PJJEBLk9WNU_",
        "outputId": "97f8917e-0ea4-490e-c00c-5924dc024b9a"
      },
      "execution_count": 9,
      "outputs": [
        {
          "output_type": "execute_result",
          "data": {
            "text/plain": [
              "array([[1.        , 0.88749009],\n",
              "       [0.88749009, 1.        ]])"
            ]
          },
          "metadata": {},
          "execution_count": 9
        }
      ]
    },
    {
      "cell_type": "markdown",
      "source": [
        "С использованием функций из библиотеки pandas"
      ],
      "metadata": {
        "id": "IL_UHXlqWxMK"
      }
    },
    {
      "cell_type": "code",
      "source": [
        "df=pd.DataFrame(data={'zp':zp, 'ks':ks})\n",
        "df.corr()"
      ],
      "metadata": {
        "colab": {
          "base_uri": "https://localhost:8080/",
          "height": 112
        },
        "id": "Cf0ak8JAW0Tn",
        "outputId": "c74199f9-49b1-4d63-a57a-7181d8e351d2"
      },
      "execution_count": 10,
      "outputs": [
        {
          "output_type": "execute_result",
          "data": {
            "text/plain": [
              "         zp       ks\n",
              "zp  1.00000  0.88749\n",
              "ks  0.88749  1.00000"
            ],
            "text/html": [
              "\n",
              "  <div id=\"df-6b51bc1e-b1b0-4882-ad2a-c2565f7f9012\">\n",
              "    <div class=\"colab-df-container\">\n",
              "      <div>\n",
              "<style scoped>\n",
              "    .dataframe tbody tr th:only-of-type {\n",
              "        vertical-align: middle;\n",
              "    }\n",
              "\n",
              "    .dataframe tbody tr th {\n",
              "        vertical-align: top;\n",
              "    }\n",
              "\n",
              "    .dataframe thead th {\n",
              "        text-align: right;\n",
              "    }\n",
              "</style>\n",
              "<table border=\"1\" class=\"dataframe\">\n",
              "  <thead>\n",
              "    <tr style=\"text-align: right;\">\n",
              "      <th></th>\n",
              "      <th>zp</th>\n",
              "      <th>ks</th>\n",
              "    </tr>\n",
              "  </thead>\n",
              "  <tbody>\n",
              "    <tr>\n",
              "      <th>zp</th>\n",
              "      <td>1.00000</td>\n",
              "      <td>0.88749</td>\n",
              "    </tr>\n",
              "    <tr>\n",
              "      <th>ks</th>\n",
              "      <td>0.88749</td>\n",
              "      <td>1.00000</td>\n",
              "    </tr>\n",
              "  </tbody>\n",
              "</table>\n",
              "</div>\n",
              "      <button class=\"colab-df-convert\" onclick=\"convertToInteractive('df-6b51bc1e-b1b0-4882-ad2a-c2565f7f9012')\"\n",
              "              title=\"Convert this dataframe to an interactive table.\"\n",
              "              style=\"display:none;\">\n",
              "        \n",
              "  <svg xmlns=\"http://www.w3.org/2000/svg\" height=\"24px\"viewBox=\"0 0 24 24\"\n",
              "       width=\"24px\">\n",
              "    <path d=\"M0 0h24v24H0V0z\" fill=\"none\"/>\n",
              "    <path d=\"M18.56 5.44l.94 2.06.94-2.06 2.06-.94-2.06-.94-.94-2.06-.94 2.06-2.06.94zm-11 1L8.5 8.5l.94-2.06 2.06-.94-2.06-.94L8.5 2.5l-.94 2.06-2.06.94zm10 10l.94 2.06.94-2.06 2.06-.94-2.06-.94-.94-2.06-.94 2.06-2.06.94z\"/><path d=\"M17.41 7.96l-1.37-1.37c-.4-.4-.92-.59-1.43-.59-.52 0-1.04.2-1.43.59L10.3 9.45l-7.72 7.72c-.78.78-.78 2.05 0 2.83L4 21.41c.39.39.9.59 1.41.59.51 0 1.02-.2 1.41-.59l7.78-7.78 2.81-2.81c.8-.78.8-2.07 0-2.86zM5.41 20L4 18.59l7.72-7.72 1.47 1.35L5.41 20z\"/>\n",
              "  </svg>\n",
              "      </button>\n",
              "      \n",
              "  <style>\n",
              "    .colab-df-container {\n",
              "      display:flex;\n",
              "      flex-wrap:wrap;\n",
              "      gap: 12px;\n",
              "    }\n",
              "\n",
              "    .colab-df-convert {\n",
              "      background-color: #E8F0FE;\n",
              "      border: none;\n",
              "      border-radius: 50%;\n",
              "      cursor: pointer;\n",
              "      display: none;\n",
              "      fill: #1967D2;\n",
              "      height: 32px;\n",
              "      padding: 0 0 0 0;\n",
              "      width: 32px;\n",
              "    }\n",
              "\n",
              "    .colab-df-convert:hover {\n",
              "      background-color: #E2EBFA;\n",
              "      box-shadow: 0px 1px 2px rgba(60, 64, 67, 0.3), 0px 1px 3px 1px rgba(60, 64, 67, 0.15);\n",
              "      fill: #174EA6;\n",
              "    }\n",
              "\n",
              "    [theme=dark] .colab-df-convert {\n",
              "      background-color: #3B4455;\n",
              "      fill: #D2E3FC;\n",
              "    }\n",
              "\n",
              "    [theme=dark] .colab-df-convert:hover {\n",
              "      background-color: #434B5C;\n",
              "      box-shadow: 0px 1px 3px 1px rgba(0, 0, 0, 0.15);\n",
              "      filter: drop-shadow(0px 1px 2px rgba(0, 0, 0, 0.3));\n",
              "      fill: #FFFFFF;\n",
              "    }\n",
              "  </style>\n",
              "\n",
              "      <script>\n",
              "        const buttonEl =\n",
              "          document.querySelector('#df-6b51bc1e-b1b0-4882-ad2a-c2565f7f9012 button.colab-df-convert');\n",
              "        buttonEl.style.display =\n",
              "          google.colab.kernel.accessAllowed ? 'block' : 'none';\n",
              "\n",
              "        async function convertToInteractive(key) {\n",
              "          const element = document.querySelector('#df-6b51bc1e-b1b0-4882-ad2a-c2565f7f9012');\n",
              "          const dataTable =\n",
              "            await google.colab.kernel.invokeFunction('convertToInteractive',\n",
              "                                                     [key], {});\n",
              "          if (!dataTable) return;\n",
              "\n",
              "          const docLinkHtml = 'Like what you see? Visit the ' +\n",
              "            '<a target=\"_blank\" href=https://colab.research.google.com/notebooks/data_table.ipynb>data table notebook</a>'\n",
              "            + ' to learn more about interactive tables.';\n",
              "          element.innerHTML = '';\n",
              "          dataTable['output_type'] = 'display_data';\n",
              "          await google.colab.output.renderOutput(dataTable, element);\n",
              "          const docLink = document.createElement('div');\n",
              "          docLink.innerHTML = docLinkHtml;\n",
              "          element.appendChild(docLink);\n",
              "        }\n",
              "      </script>\n",
              "    </div>\n",
              "  </div>\n",
              "  "
            ]
          },
          "metadata": {},
          "execution_count": 10
        }
      ]
    },
    {
      "cell_type": "markdown",
      "source": [
        "# Вывод:\n",
        " между исходными данными существует сильная линейная взаимосвязь "
      ],
      "metadata": {
        "id": "6HEJd0p5W_Ci"
      }
    },
    {
      "cell_type": "markdown",
      "source": [
        "Задача 2 Измерены значения IQ выборки студентов,\n",
        "обучающихся в местных технических вузах:\n",
        "\n",
        "131, 125, 115, 122, 131, 115, 107, 99, 125, 111.\n",
        "\n",
        "Известно, что в генеральной совокупности IQ распределен нормально.\n",
        "Найдите доверительный интервал для математического ожидания с надежностью 0.95."
      ],
      "metadata": {
        "id": "8xd_SLfiXYWK"
      }
    },
    {
      "cell_type": "code",
      "source": [
        "iq=np.array([131, 125, 115, 122, 131, 115, 107, 99, 125, 111])"
      ],
      "metadata": {
        "id": "v_uXI6CHXmD3"
      },
      "execution_count": 11,
      "outputs": []
    },
    {
      "cell_type": "markdown",
      "source": [
        "Так как по условию задачи не известны: математическое ожидание генеральной совокупности, среднее квадратическое отклонение для генеральной совокупности, значит для расчета доверительного интервала буду использовать t-критерий"
      ],
      "metadata": {
        "id": "MpTitKs8XxOS"
      }
    },
    {
      "cell_type": "code",
      "source": [
        "n=iq.size\n",
        "std=iq.std(ddof=1)\n",
        "mean=iq.mean()\n",
        "print(f'Среднее выборочное: {mean:.2f},\\n'\n",
        "      f'Размер выборки n=: {n},\\n'\n",
        "      f'Среднее квадратическое отклонение по выборке(несмещенное): {std:.2f}.'\n",
        "     )"
      ],
      "metadata": {
        "colab": {
          "base_uri": "https://localhost:8080/"
        },
        "id": "ZxbUfMvqYaHt",
        "outputId": "6c93dd1a-959a-4aa1-fbea-14ec2c3bde07"
      },
      "execution_count": 12,
      "outputs": [
        {
          "output_type": "stream",
          "name": "stdout",
          "text": [
            "Среднее выборочное: 118.10,\n",
            "Размер выборки n=: 10,\n",
            "Среднее квадратическое отклонение по выборке(несмещенное): 10.55.\n"
          ]
        }
      ]
    },
    {
      "cell_type": "markdown",
      "source": [
        "Далее считаю значения t и отклонение"
      ],
      "metadata": {
        "id": "GGv-pEt_Y-g8"
      }
    },
    {
      "cell_type": "code",
      "source": [
        "t=stats.t.ppf((1+0.95)/2,n-1)\n",
        "d=t*std/(n)**.5\n",
        "d,t"
      ],
      "metadata": {
        "colab": {
          "base_uri": "https://localhost:8080/"
        },
        "id": "ZVxfuKh8ZQO-",
        "outputId": "fcd7c930-515d-421e-b613-ad03c613aeb5"
      },
      "execution_count": 13,
      "outputs": [
        {
          "output_type": "execute_result",
          "data": {
            "text/plain": [
              "(7.543916348412745, 2.2621571627409915)"
            ]
          },
          "metadata": {},
          "execution_count": 13
        }
      ]
    },
    {
      "cell_type": "markdown",
      "source": [
        "Считаю доверительный интервал для математического ожидания с надежностью 0.95."
      ],
      "metadata": {
        "id": "Lj8nnI3JZk0L"
      }
    },
    {
      "cell_type": "code",
      "source": [
        "a=mean-d\n",
        "b=mean+d\n",
        "print(f'95%-й доверительный интервал для истинного значения IQ: [{a: .4f};{b: .4f}].')"
      ],
      "metadata": {
        "colab": {
          "base_uri": "https://localhost:8080/"
        },
        "id": "C72AX6NWZ0fQ",
        "outputId": "48e19096-df32-4d67-e9a8-7f170cc2b467"
      },
      "execution_count": 14,
      "outputs": [
        {
          "output_type": "stream",
          "name": "stdout",
          "text": [
            "95%-й доверительный интервал для истинного значения IQ: [ 110.5561; 125.6439].\n"
          ]
        }
      ]
    },
    {
      "cell_type": "markdown",
      "source": [
        "Задача 3\n",
        "\n",
        "Известно, что рост футболистов в сборной распределен нормально\n",
        "с дисперсией генеральной совокупности, равной 25 кв.см. Объем выборки равен 27,\n",
        "среднее выборочное составляет 174.2.\n",
        "\n",
        "Найдите доверительный интервал для\n",
        "математического\n",
        "ожидания с надежностью 0.95."
      ],
      "metadata": {
        "id": "OpcCmmgyaFQp"
      }
    },
    {
      "cell_type": "markdown",
      "source": [
        "Так как дисперсия генеральной совокупности задана, то для расчета доверительного интервала, буду использовать \n",
        " z-критерий"
      ],
      "metadata": {
        "id": "oarpRw9AamK1"
      }
    },
    {
      "cell_type": "code",
      "source": [
        "var=25\n",
        "std=(var)**.5\n",
        "n=27\n",
        "mean=174.2"
      ],
      "metadata": {
        "id": "l899F_htbMhX"
      },
      "execution_count": 15,
      "outputs": []
    },
    {
      "cell_type": "markdown",
      "source": [
        "Cчитаю значение z и отклонение"
      ],
      "metadata": {
        "id": "ZbZIr8LFbWnO"
      }
    },
    {
      "cell_type": "code",
      "source": [
        "z=stats.t.ppf((1+0.95)/2,n-1)\n",
        "d=z*std/(n)**.5\n",
        "d,z"
      ],
      "metadata": {
        "colab": {
          "base_uri": "https://localhost:8080/"
        },
        "id": "HEt2XDrcboai",
        "outputId": "ec32bb04-47f2-44a1-cf0e-41c9a7923367"
      },
      "execution_count": 16,
      "outputs": [
        {
          "output_type": "execute_result",
          "data": {
            "text/plain": [
              "(1.977934124546103, 2.055529438642871)"
            ]
          },
          "metadata": {},
          "execution_count": 16
        }
      ]
    },
    {
      "cell_type": "code",
      "source": [
        "a=mean-d\n",
        "b=mean+d\n",
        "print(f'95%-й доверительный интервал для оценки математического ожидания генеральной совокупности: [{a: .4f};{b: .4f}].')"
      ],
      "metadata": {
        "colab": {
          "base_uri": "https://localhost:8080/"
        },
        "id": "nFAwLT3Zb1jh",
        "outputId": "23f49f2b-a1d1-4944-b38b-4b2e67684f94"
      },
      "execution_count": 17,
      "outputs": [
        {
          "output_type": "stream",
          "name": "stdout",
          "text": [
            "95%-й доверительный интервал для оценки математического ожидания генеральной совокупности: [ 172.2221; 176.1779].\n"
          ]
        }
      ]
    }
  ]
}