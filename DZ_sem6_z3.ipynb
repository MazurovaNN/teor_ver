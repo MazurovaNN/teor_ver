{
      "cell_type": "markdown",
      "source": [
        "**Задача 3.** Рост дочерей 175, 167, 154, 174, 178, 148, 160, 167, 169, 170\n",
        "Рост матерей 178, 165, 165, 173, 168, 155, 160, 164, 178, 175\n",
        "\n",
        "Используя эти данные построить 95% доверительный интервал для разности среднего\n",
        "роста родителей и детей."
      ],
      "metadata": {
        "id": "qMhM8qXhj5X1"
      }
    },
    {
      "cell_type": "code",
      "source": [
        "daughters = np.array([175, 167, 154, 174, 178, 148, 160, 167, 169, 170])\n",
        "mothers = np.array([178, 165, 165, 173, 168, 155, 160, 164, 178, 175])\n",
        "\n",
        "mean_difference = np.mean(mothers) - np.mean(daughters)\n",
        "std = np.sqrt((np.std(mothers) ** 2 / len(mothers)) + (np.std(daughters) ** 2 / len(daughters)))\n",
        "a = 1.96 * std\n",
        "confidence_interval = (mean_difference - a, mean_difference + a)\n",
        "\n",
        "print(\"95% доверительный интервал разности среднего роста родителей и детей:\", confidence_interval)\n"
      ],
      "metadata": {
        "id": "n0Z3gv5CmRkX",
        "colab": {
          "base_uri": "https://localhost:8080/"
        },
        "outputId": "bed8a951-67af-4235-d2a3-b8a0188e8426"
      },
      "execution_count": null,
      "outputs": [
        {
          "output_type": "stream",
          "name": "stdout",
          "text": [
            "95% доверительный интервал разности среднего роста родителей и детей: (-5.329451431471127, 9.12945143147114)\n"
          ]
        }
      ]
    }
  ]
}
