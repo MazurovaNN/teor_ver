{
  "nbformat": 4,
  "nbformat_minor": 0,
  "metadata": {
    "colab": {
      "provenance": [],
      "authorship_tag": "ABX9TyPE0+2/h3b4jFKLanXhfO1e",
      "include_colab_link": true
    },
    "kernelspec": {
      "name": "python3",
      "display_name": "Python 3"
    },
    "language_info": {
      "name": "python"
    }
  },
  "cells": [
    {
      "cell_type": "markdown",
      "metadata": {
        "id": "view-in-github",
        "colab_type": "text"
      },
      "source": [
        "<a href=\"https://colab.research.google.com/github/MazurovaNN/theory_ver/blob/main/DZ6_z2.ipynb\" target=\"_parent\"><img src=\"https://colab.research.google.com/assets/colab-badge.svg\" alt=\"Open In Colab\"/></a>"
      ]
    },
    {
      "cell_type": "code",
      "execution_count": 1,
      "metadata": {
        "colab": {
          "base_uri": "https://localhost:8080/"
        },
        "id": "tRFu9jgk-7ll",
        "outputId": "97e9f77a-3e07-4dc2-9674-a1b2e964af68"
      },
      "outputs": [
        {
          "output_type": "stream",
          "name": "stdout",
          "text": [
            "Среднее выборочное: 6.590000000000001,\n",
            "Размер выборки n=10,\n",
            "Среднее квадратическое отклонение по выборке(несмещенное): 0.4508017549014448.\n"
          ]
        }
      ],
      "source": [
        "import numpy as np\n",
        "import scipy.stats as stats\n",
        "\n",
        "arr=np.array([6.9, 6.1, 6.2, 6.8, 7.5, 6.3, 6.4, 6.9, 6.7, 6.1])\n",
        "n=len(arr)\n",
        "m=np.mean(arr)\n",
        "std=np.std(arr, ddof=1)\n",
        "print(f'Среднее выборочное: {m},\\n'\n",
        "      f'Размер выборки n={n},\\n'\n",
        "      f'Среднее квадратическое отклонение по выборке(несмещенное): {std}.'\n",
        "     )"
      ]
    },
    {
      "cell_type": "code",
      "source": [
        "alpha=1-0.95\n",
        "t=stats.t.ppf(1-alpha/2, n-1)\n",
        "print(f'значение t-критерия для 95%-го доверительного интервала данной выборки: {t}')\n"
      ],
      "metadata": {
        "colab": {
          "base_uri": "https://localhost:8080/"
        },
        "id": "41Lr0rh4_PJF",
        "outputId": "a8307602-c8a3-4c2b-a621-72f7fdf92f95"
      },
      "execution_count": 2,
      "outputs": [
        {
          "output_type": "stream",
          "name": "stdout",
          "text": [
            "значение t-критерия для 95%-го доверительного интервала данной выборки: 2.2621571627409915\n"
          ]
        }
      ]
    },
    {
      "cell_type": "code",
      "source": [
        "left=round(m-t*std/n**0.5,3)\n",
        "right=round(m+t*std/n**0.5,3)\n",
        "print(f'95%-й доверительный интервал для истинного значения Х: [{left};{right}]')\n"
      ],
      "metadata": {
        "colab": {
          "base_uri": "https://localhost:8080/"
        },
        "id": "OCqysT_s_Xw-",
        "outputId": "a50d2c8a-ec95-4f06-fa44-47a62c9cc5e8"
      },
      "execution_count": 3,
      "outputs": [
        {
          "output_type": "stream",
          "name": "stdout",
          "text": [
            "95%-й доверительный интервал для истинного значения Х: [6.268;6.912]\n"
          ]
        }
      ]
    }
  ]
}