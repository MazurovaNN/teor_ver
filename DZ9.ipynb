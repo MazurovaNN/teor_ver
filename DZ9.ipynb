{
  "nbformat": 4,
  "nbformat_minor": 0,
  "metadata": {
    "colab": {
      "provenance": [],
      "authorship_tag": "ABX9TyPqrrkJJvPOOvEdpetUIUHK",
      "include_colab_link": true
    },
    "kernelspec": {
      "name": "python3",
      "display_name": "Python 3"
    },
    "language_info": {
      "name": "python"
    }
  },
  "cells": [
    {
      "cell_type": "markdown",
      "metadata": {
        "id": "view-in-github",
        "colab_type": "text"
      },
      "source": [
        "<a href=\"https://colab.research.google.com/github/MazurovaNN/theory_ver/blob/main/DZ9.ipynb\" target=\"_parent\"><img src=\"https://colab.research.google.com/assets/colab-badge.svg\" alt=\"Open In Colab\"/></a>"
      ]
    },
    {
      "cell_type": "code",
      "execution_count": 1,
      "metadata": {
        "id": "ugxRWQWJd-dQ"
      },
      "outputs": [],
      "source": [
        "import numpy as np\n",
        "import matplotlib.pyplot as plt"
      ]
    },
    {
      "cell_type": "markdown",
      "source": [
        "Задача 1\n",
        "\n",
        "Даны значения величины заработной платы заемщиков банка (zp) и значения их\n",
        "поведенческого кредитного скоринга (ks):\n",
        "\n",
        " zp = [35, 45, 190, 200, 40, 70, 54, 150, 120, 110],\n",
        "\n",
        "ks = [401, 574, 874, 919, 459, 739, 653, 902, 746, 832]. \n",
        "\n",
        "Используя математические\n",
        "операции, посчитать коэффициенты линейной регрессии, приняв за X заработную плату\n",
        "(то есть, zp - признак), а за y - значения скорингового балла (то есть, ks - целевая\n",
        "переменная).\n",
        "\n",
        " Произвести расчет как с использованием intercept, так и без."
      ],
      "metadata": {
        "id": "5w3o7_T-ebdg"
      }
    },
    {
      "cell_type": "code",
      "source": [
        "zp = np.array([35, 45, 190, 200, 40, 70, 54, 150, 120, 110])\n",
        "ks = np.array([401, 574, 874, 919, 459, 739, 653, 902, 746, 832])"
      ],
      "metadata": {
        "id": "snAfJfHVe0Ef"
      },
      "execution_count": 2,
      "outputs": []
    },
    {
      "cell_type": "markdown",
      "source": [
        "Проанализирую присутствие зависимости с помощью графика"
      ],
      "metadata": {
        "id": "DqPf1XWke-Xd"
      }
    },
    {
      "cell_type": "code",
      "source": [
        "plt.scatter(zp,ks)\n",
        "plt.xlabel('Значение заработной платы')\n",
        "plt.ylabel('Поведенческий кредитный скоринговый балл', rotation=90)\n",
        "plt.show()"
      ],
      "metadata": {
        "colab": {
          "base_uri": "https://localhost:8080/",
          "height": 292
        },
        "id": "Ym6glEuefRJW",
        "outputId": "3f20a0fd-0eeb-47be-b662-6de74675c882"
      },
      "execution_count": 3,
      "outputs": [
        {
          "output_type": "display_data",
          "data": {
            "text/plain": [
              "<Figure size 432x288 with 1 Axes>"
            ],
            "image/png": "[encoded data removed]"
          },
          "metadata": {
            "needs_background": "light"
          }
        }
      ]
    },
    {
      "cell_type": "markdown",
      "source": [
        "Проанализировав график, можно констатировать, что наблюдается линейная зависимость (позитивная)"
      ],
      "metadata": {
        "id": "eQOu_2O0fw-t"
      }
    },
    {
      "cell_type": "code",
      "source": [
        "b=(np.mean(zp * ks) - np.mean(zp) * np.mean(ks)) / (np.mean(zp**2) - np.mean(zp) ** 2)\n",
        "b"
      ],
      "metadata": {
        "colab": {
          "base_uri": "https://localhost:8080/"
        },
        "id": "PIdgys6OgOAL",
        "outputId": "adf618b4-01c2-4af2-eccd-c45935b1891a"
      },
      "execution_count": 4,
      "outputs": [
        {
          "output_type": "execute_result",
          "data": {
            "text/plain": [
              "2.620538882402765"
            ]
          },
          "metadata": {},
          "execution_count": 4
        }
      ]
    },
    {
      "cell_type": "code",
      "source": [
        "a=np.mean(ks)-b*np.mean(zp)\n",
        "a"
      ],
      "metadata": {
        "colab": {
          "base_uri": "https://localhost:8080/"
        },
        "id": "WayYJMqQgWRn",
        "outputId": "6834f2d0-3fab-480d-b667-b499206de8d6"
      },
      "execution_count": 5,
      "outputs": [
        {
          "output_type": "execute_result",
          "data": {
            "text/plain": [
              "444.1773573243596"
            ]
          },
          "metadata": {},
          "execution_count": 5
        }
      ]
    },
    {
      "cell_type": "code",
      "source": [
        "plt.scatter(zp,ks)\n",
        "plt.plot(zp, a+b*zp, c='r')\n",
        "plt.xlabel('Значение заработной платы')\n",
        "plt.ylabel('Поведенческий кредитный скоринговый балл', rotation=90)\n",
        "plt.show()"
      ],
      "metadata": {
        "colab": {
          "base_uri": "https://localhost:8080/",
          "height": 292
        },
        "id": "1Gw2O7LzghTK",
        "outputId": "b8fb96fb-79c0-4a8c-83ec-bf5e2bf15af1"
      },
      "execution_count": 6,
      "outputs": [
        {
          "output_type": "display_data",
          "data": {
            "text/plain": [
              "<Figure size 432x288 with 1 Axes>"
            ],
            "image/png": "[encoded data removed]"
          },
          "metadata": {
            "needs_background": "light"
          }
        }
      ]
    },
    {
      "cell_type": "markdown",
      "source": [
        "ВЫВОД: \n",
        "\n",
        "Полученная функция демонстрирует линейную зависимость между значением заработной платы и кредитного скорингового балла."
      ],
      "metadata": {
        "id": "XN9cG9JyhgRb"
      }
    },
    {
      "cell_type": "markdown",
      "source": [
        "Задача 2 \n",
        "\n",
        "Посчитать коэффициент линейной регрессии при заработной плате (zp), используя\n",
        "градиентный спуск (без intercept)."
      ],
      "metadata": {
        "id": "62AKJzyMiJ19"
      }
    },
    {
      "cell_type": "code",
      "source": [
        "def _mse(b, x, y):\n",
        "    return np.sum((b*x-y)**2)/len(x)"
      ],
      "metadata": {
        "id": "ffhduZdti8ET"
      },
      "execution_count": 7,
      "outputs": []
    },
    {
      "cell_type": "markdown",
      "source": [
        "Рассчитываю значение для вычесленного коэффициента b=2.62"
      ],
      "metadata": {
        "id": "Xnl00xlUi-5j"
      }
    },
    {
      "cell_type": "code",
      "source": [
        "_mse(2.62, zp, ks)"
      ],
      "metadata": {
        "colab": {
          "base_uri": "https://localhost:8080/"
        },
        "id": "fbq27gvEjkjE",
        "outputId": "07a84306-56b3-4c54-b873-3f3df165ce2c"
      },
      "execution_count": 8,
      "outputs": [
        {
          "output_type": "execute_result",
          "data": {
            "text/plain": [
              "203812.48504"
            ]
          },
          "metadata": {},
          "execution_count": 8
        }
      ]
    },
    {
      "cell_type": "markdown",
      "source": [
        "Далее следует подобрать значение коэффициента b\n",
        " , при котором MSE стремится к 0\n",
        " , используя свойства производной. Для этого вычислю производную нашей функции потерь:"
      ],
      "metadata": {
        "id": "cgjuP-OckSTJ"
      }
    },
    {
      "cell_type": "code",
      "source": [
        "def _mse_p(b,x,y):\n",
        "    return (2/len(x))*np.sum((b*x-y)*x)"
      ],
      "metadata": {
        "id": "zEC9Bspbl-Hz"
      },
      "execution_count": 9,
      "outputs": []
    },
    {
      "cell_type": "code",
      "source": [
        "alpha=1e-06\n",
        "b=0.1\n",
        "mse_min=_mse(b,zp,ks)\n",
        "i_min=1\n",
        "b_min=b\n",
        "for i in range(10000):\n",
        "    b-=alpha*_mse_p(b,zp,ks)\n",
        "    if i%100==0:\n",
        "        print(f'Итерация #{i}, b={b}, mse={_mse(b, zp,ks)}')\n",
        "    if _mse(b,zp,ks)>mse_min:\n",
        "        print(f'Итерация #{i_min}, b={b_min}, mse={mse_min},\\nДостигнут мин.')\n",
        "        break\n",
        "    else:\n",
        "        mse_min=_mse(b,zp,ks)\n",
        "        i_min=i\n",
        "        b_min=b"
      ],
      "metadata": {
        "colab": {
          "base_uri": "https://localhost:8080/"
        },
        "id": "-HUuL4QnmKoC",
        "outputId": "34f5c8e2-c0f4-4499-8f44-24c0ff16ca6c"
      },
      "execution_count": 10,
      "outputs": [
        {
          "output_type": "stream",
          "name": "stdout",
          "text": [
            "Итерация #0, b=0.25952808000000005, mse=493237.7212546963\n",
            "Итерация #100, b=5.54537842245223, mse=58151.31823171113\n",
            "Итерация #200, b=5.868748638669329, mse=56522.97550129376\n",
            "Итерация #300, b=5.888531320728348, mse=56516.88130936019\n",
            "Итерация #400, b=5.8897415574471985, mse=56516.85850140053\n",
            "Итерация #500, b=5.889815595583751, mse=56516.858416040064\n",
            "Итерация #600, b=5.889820124983314, mse=56516.85841572062\n",
            "Итерация #628, b=5.889820285147628, mse=56516.85841571966,\n",
            "Достигнут мин.\n"
          ]
        }
      ]
    },
    {
      "cell_type": "code",
      "source": [
        "b_min"
      ],
      "metadata": {
        "colab": {
          "base_uri": "https://localhost:8080/"
        },
        "id": "pgxnhomem1Eq",
        "outputId": "d04462bb-7b85-42b1-dedd-dc4089a21737"
      },
      "execution_count": 11,
      "outputs": [
        {
          "output_type": "execute_result",
          "data": {
            "text/plain": [
              "5.889820285147628"
            ]
          },
          "metadata": {},
          "execution_count": 11
        }
      ]
    },
    {
      "cell_type": "markdown",
      "source": [
        "Задача 3 (Дополнительно) \n",
        "\n",
        "Произвести вычисления как в пункте 2, но с вычислением intercept.\n",
        "\n",
        "Учесть, что\n",
        "изменение коэффициентов должно производиться\n",
        "на каждом шаге одновременно (то есть изменение одного коэффициента не должно\n",
        "влиять на изменение другого во время одной итерации)."
      ],
      "metadata": {
        "id": "dfmz4OW-nqqJ"
      }
    },
    {
      "cell_type": "markdown",
      "source": [
        "Рассчет функции потерь"
      ],
      "metadata": {
        "id": "RnLBABODpMzz"
      }
    },
    {
      "cell_type": "code",
      "source": [
        "def _mse_ab(a,b, x, y):\n",
        "    return np.sum(((a+b*x)-y)**2)/len(x)"
      ],
      "metadata": {
        "id": "8v-Ps2o-ph4J"
      },
      "execution_count": 12,
      "outputs": []
    },
    {
      "cell_type": "markdown",
      "source": [
        "Частная производная функции потерь по a"
      ],
      "metadata": {
        "id": "_Qy73zBip_kD"
      }
    },
    {
      "cell_type": "code",
      "source": [
        "def _mse_pa(a,b,x,y): \n",
        "    return 2*np.sum((a+b*x)-y)/len(x)"
      ],
      "metadata": {
        "id": "0zOv5C5WqlV5"
      },
      "execution_count": 13,
      "outputs": []
    },
    {
      "cell_type": "markdown",
      "source": [
        "Частная производная функции потерь по b"
      ],
      "metadata": {
        "id": "mfvI6KrzqysN"
      }
    },
    {
      "cell_type": "code",
      "source": [
        "def _mse_pb(a,b,x,y):\n",
        "    return 2*np.sum(((a+b*x)-y)*x)/len(x)"
      ],
      "metadata": {
        "id": "40iEDdXgq7mj"
      },
      "execution_count": 14,
      "outputs": []
    },
    {
      "cell_type": "code",
      "source": [
        "alpha=3e-05\n",
        "b=0.1\n",
        "a=0.1\n",
        "mseab_min=_mse_ab(a,b,zp,ks)\n",
        "i_min=1\n",
        "b_min=b\n",
        "a_min=a\n",
        "   \n",
        "for i in range(1000000):\n",
        "    a-=alpha*_mse_pa(a,b,zp,ks)\n",
        "    b-=alpha*_mse_pb(a,b,zp,ks)\n",
        "    if i%50000==0:\n",
        "        print(f'Итерация #{i}, a={a}, b={b}, mse={_mse_ab(a, b, zp,ks)}')\n",
        "    if _mse_ab(a, b,zp,ks)>mseab_min:\n",
        "        print(f'Итерация #{i_min}, a={a_min}, b={b_min}, mse={mseab_min},\\nДостигнут мин.')\n",
        "        break\n",
        "    else:\n",
        "        mseab_min=_mse_ab(a, b,zp,ks)\n",
        "        i_min=i\n",
        "        b_min=b\n",
        "        a_min=a\n",
        "print(f'a={a_min}\\nb={b_min}')"
      ],
      "metadata": {
        "colab": {
          "base_uri": "https://localhost:8080/"
        },
        "id": "2zzz3qZGrB4_",
        "outputId": "54d17011-79da-4ac2-c644-42252ebe92e9"
      },
      "execution_count": 15,
      "outputs": [
        {
          "output_type": "stream",
          "name": "stdout",
          "text": [
            "Итерация #0, a=0.14197959999999998, b=4.884978596113599, mse=70366.2821016992\n",
            "Итерация #50000, a=236.72655235964433, b=4.147445287981601, mse=17387.09579189967\n",
            "Итерация #100000, a=347.2559075176058, b=3.3339127474648516, mse=8853.283372220058\n",
            "Итерация #150000, a=398.89545333636954, b=2.953828643644366, mse=6990.541626266601\n",
            "Итерация #200000, a=423.0215571081485, b=2.7762525556795365, mse=6583.946467915477\n",
            "Итерация #250000, a=434.29332323191153, b=2.69328863611563, mse=6495.195773862671\n",
            "Итерация #300000, a=439.5595159313502, b=2.6545277194387675, mse=6475.823468184463\n",
            "Итерация #350000, a=442.0198921708081, b=2.6364185381280407, mse=6471.594924044105\n",
            "Итерация #400000, a=443.16938509390076, b=2.6279578907579992, mse=6470.671926759022\n",
            "Итерация #450000, a=443.70643059087314, b=2.624005058617609, mse=6470.470456948132\n",
            "Итерация #500000, a=443.95733936988626, b=2.622158287177236, mse=6470.426480562332\n",
            "Итерация #550000, a=444.07456447602823, b=2.6212954716991606, mse=6470.41688149387\n",
            "Итерация #600000, a=444.12933229069927, b=2.6208923625039224, mse=6470.414786230384\n",
            "Итерация #650000, a=444.15491992822837, b=2.620704029045041, mse=6470.414328880896\n",
            "Итерация #700000, a=444.1668745259701, b=2.6206160392593607, mse=6470.41422905166\n",
            "Итерация #750000, a=444.17245973903704, b=2.6205749302474683, mse=6470.414207261152\n",
            "Итерация #800000, a=444.17506916225733, b=2.620555724031177, mse=6470.4142025047695\n",
            "Итерация #848812, a=444.1762687850084, b=2.6205468944117247, mse=6470.414201477225,\n",
            "Достигнут мин.\n",
            "a=444.1762687850084\n",
            "b=2.6205468944117247\n"
          ]
        }
      ]
    },
    {
      "cell_type": "code",
      "source": [
        "plt.scatter(zp,ks)\n",
        "plt.plot(zp,a_min+b_min*zp, c='r')\n",
        "plt.xlabel('Значение заработной платы')\n",
        "plt.ylabel('Поведенческий кредитный скоринговый балл', rotation=90)\n",
        "plt.show()"
      ],
      "metadata": {
        "colab": {
          "base_uri": "https://localhost:8080/",
          "height": 292
        },
        "id": "1587ITdkrmxs",
        "outputId": "5cf67393-ea9c-4111-f55f-9155bb7dbbd8"
      },
      "execution_count": 16,
      "outputs": [
        {
          "output_type": "display_data",
          "data": {
            "text/plain": [
              "<Figure size 432x288 with 1 Axes>"
            ],
            "image/png": "[encoded data removed]"
          },
          "metadata": {
            "needs_background": "light"
          }
        }
      ]
    }
  ]
}