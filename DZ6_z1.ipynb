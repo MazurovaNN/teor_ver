{
  "nbformat": 4,
  "nbformat_minor": 0,
  "metadata": {
    "colab": {
      "provenance": [],
      "authorship_tag": "ABX9TyPpA0KZgFN20pwTO8iw+bbM",
      "include_colab_link": true
    },
    "kernelspec": {
      "name": "python3",
      "display_name": "Python 3"
    },
    "language_info": {
      "name": "python"
    }
  },
  "cells": [
    {
      "cell_type": "markdown",
      "metadata": {
        "id": "view-in-github",
        "colab_type": "text"
      },
      "source": [
        "<a href=\"https://colab.research.google.com/github/MazurovaNN/theory_ver/blob/main/DZ6_z1.ipynb\" target=\"_parent\"><img src=\"https://colab.research.google.com/assets/colab-badge.svg\" alt=\"Open In Colab\"/></a>"
      ]
    },
    {
      "cell_type": "code",
      "source": [
        "import numpy as np\n",
        "import scipy.stats as stats\n",
        "\n",
        "left=80-1.96*16/256**0.5\n",
        "right=80+1.96*16/256**0.5\n",
        "print(f'доверительный интервал для оценки мат. ожидания генеральной совокупности: [{left};{right}].')\n"
      ],
      "metadata": {
        "colab": {
          "base_uri": "https://localhost:8080/"
        },
        "id": "PN4Lu24I96Hu",
        "outputId": "26a215c6-0bdd-4c21-8dde-0a38e43be3c7"
      },
      "execution_count": 4,
      "outputs": [
        {
          "output_type": "stream",
          "name": "stdout",
          "text": [
            "доверительный интервал для оценки мат. ожидания генеральной совокупности: [78.04;81.96].\n"
          ]
        }
      ]
    }
  ]
}